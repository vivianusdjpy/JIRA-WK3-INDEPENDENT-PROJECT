{
  "nbformat": 4,
  "nbformat_minor": 0,
  "metadata": {
    "colab": {
      "name": "PYTHON WEEK 3 INDEPENDENT PROJECT.ipynb",
      "provenance": [],
      "collapsed_sections": [],
      "toc_visible": true,
      "include_colab_link": true
    },
    "kernelspec": {
      "name": "python3",
      "display_name": "Python 3"
    }
  },
  "cells": [
    {
      "cell_type": "markdown",
      "metadata": {
        "id": "view-in-github",
        "colab_type": "text"
      },
      "source": [
        "<a href=\"https://colab.research.google.com/github/vivianusdjpy/JIRA-WK3-INDEPENDENT-PROJECT/blob/master/PYTHON_WEEK_3_INDEPENDENT_PROJECT.ipynb\" target=\"_parent\"><img src=\"https://colab.research.google.com/assets/colab-badge.svg\" alt=\"Open In Colab\"/></a>"
      ]
    },
    {
      "cell_type": "markdown",
      "metadata": {
        "id": "EezsjX1UOJzC",
        "colab_type": "text"
      },
      "source": [
        "##DATA SCIENCE PROJECT FOR MTN COTE-D’IVOIRE \n",
        "Infrastructure Upgrade Strategy Analysis and Recommendation\n",
        "###General Information\n",
        "MTN Cote d’Ivoire/Ivory Coast requires to upgrade their infrastructure for better user experience of it’s subscribers. They have shared their dataset to myself as a data scientist for analysis and advice on strategy to undertake.\n",
        "\n",
        "\n",
        "**Data**\n",
        "\n",
        "Datassets below provided\n",
        "\n",
        "*   cells_geo_description.xlsx [https://drive.google.com/a/moringaschool.com/file/d/1-rIM5ihDu79RaH7rAs-d-7SQSAQhrY9N/view?usp=sharing]\n",
        "*   cells_geo.csv [https://drive.google.com/a/moringaschool.com/file/d/1ABZux280OjL3yWcOn8BDA_f5QsyO0QPU/view?usp=sharing]\n",
        "*   CDR_description.xlsx [https://drive.google.com/open?id=1cVoNXl25IO5-_yQk97ThdeqhE6yw8YTD]\n",
        "*   CDR 20120507 [http://bit.ly/TelecomDataset1]\n",
        "*   CDR 20120508 [http://bit.ly/TelecomDataset2]\n",
        "*   CDR 20120509 [http://bit.ly/TelecomDataset3]\n",
        "\n",
        "**Requirement**\n",
        "*   Study the provided given dataset\n",
        "*   Recommend the strategy for upgrading the infrastructure within the given cities"
      ]
    },
    {
      "cell_type": "markdown",
      "metadata": {
        "id": "TPSla2MGPGAt",
        "colab_type": "text"
      },
      "source": [
        "###Importing Libraries"
      ]
    },
    {
      "cell_type": "code",
      "metadata": {
        "id": "REt6Z3o-Lw4D",
        "colab_type": "code",
        "colab": {}
      },
      "source": [
        "# Pands for data manipulation and analysis\n",
        "import pandas as pd"
      ],
      "execution_count": 0,
      "outputs": []
    },
    {
      "cell_type": "markdown",
      "metadata": {
        "id": "iiLDfbyQPMX0",
        "colab_type": "text"
      },
      "source": [
        "###Data Loading"
      ]
    },
    {
      "cell_type": "code",
      "metadata": {
        "id": "10_WzJjmNcqh",
        "colab_type": "code",
        "outputId": "2cef88e2-d459-41e2-a847-0394e4b14c5d",
        "colab": {
          "base_uri": "https://localhost:8080/",
          "height": 195
        }
      },
      "source": [
        "#Import Cell Geo Dataset\n",
        "#Skipped row 0 which has headers.\n",
        "url ='/content/cells_geo.csv'\n",
        "df_cells = pd.read_csv(url,delimiter=';', header =1, names = ['City','Status','Locality','Geographical_Zone','Zone_Name','Longitude','Latitude','Region','Area','Cell_ID','Site_ID'])\n",
        "\n",
        "df_cells.head()"
      ],
      "execution_count": 0,
      "outputs": [
        {
          "output_type": "execute_result",
          "data": {
            "text/html": [
              "<div>\n",
              "<style scoped>\n",
              "    .dataframe tbody tr th:only-of-type {\n",
              "        vertical-align: middle;\n",
              "    }\n",
              "\n",
              "    .dataframe tbody tr th {\n",
              "        vertical-align: top;\n",
              "    }\n",
              "\n",
              "    .dataframe thead th {\n",
              "        text-align: right;\n",
              "    }\n",
              "</style>\n",
              "<table border=\"1\" class=\"dataframe\">\n",
              "  <thead>\n",
              "    <tr style=\"text-align: right;\">\n",
              "      <th></th>\n",
              "      <th>City</th>\n",
              "      <th>Status</th>\n",
              "      <th>Locality</th>\n",
              "      <th>Geographical_Zone</th>\n",
              "      <th>Zone_Name</th>\n",
              "      <th>Longitude</th>\n",
              "      <th>Latitude</th>\n",
              "      <th>Region</th>\n",
              "      <th>Area</th>\n",
              "      <th>Cell_ID</th>\n",
              "      <th>Site_ID</th>\n",
              "    </tr>\n",
              "  </thead>\n",
              "  <tbody>\n",
              "    <tr>\n",
              "      <th>1</th>\n",
              "      <td>ADJAME</td>\n",
              "      <td>In Service</td>\n",
              "      <td>ABIDJAN</td>\n",
              "      <td>\"Abidjan_EST</td>\n",
              "      <td>AGBANNEW</td>\n",
              "      <td>-4.000667</td>\n",
              "      <td>5.368194</td>\n",
              "      <td>LAGUNE</td>\n",
              "      <td>NaN</td>\n",
              "      <td>1502501d78</td>\n",
              "      <td>0bb492ef17</td>\n",
              "    </tr>\n",
              "    <tr>\n",
              "      <th>2</th>\n",
              "      <td>ADJAME</td>\n",
              "      <td>In Service</td>\n",
              "      <td>ABIDJAN</td>\n",
              "      <td>\"Abidjan_EST</td>\n",
              "      <td>AGBANNEW</td>\n",
              "      <td>-4.000667</td>\n",
              "      <td>5.368194</td>\n",
              "      <td>LAGUNE</td>\n",
              "      <td>NaN</td>\n",
              "      <td>0c2e182a0c</td>\n",
              "      <td>0bb492ef17</td>\n",
              "    </tr>\n",
              "    <tr>\n",
              "      <th>3</th>\n",
              "      <td>ASSINIE</td>\n",
              "      <td>In Service</td>\n",
              "      <td>INTERIEUR</td>\n",
              "      <td>Grand-EST</td>\n",
              "      <td>ASSINIE\"</td>\n",
              "      <td>-3.488467</td>\n",
              "      <td>5.158761</td>\n",
              "      <td>SUD COMOE</td>\n",
              "      <td>NaN</td>\n",
              "      <td>69bdfc69fd</td>\n",
              "      <td>8a1e6ce31f</td>\n",
              "    </tr>\n",
              "    <tr>\n",
              "      <th>4</th>\n",
              "      <td>ASSINIE</td>\n",
              "      <td>In Service</td>\n",
              "      <td>INTERIEUR</td>\n",
              "      <td>Grand-EST</td>\n",
              "      <td>ASSINIE\"</td>\n",
              "      <td>-3.488467</td>\n",
              "      <td>5.158761</td>\n",
              "      <td>SUD COMOE</td>\n",
              "      <td>NaN</td>\n",
              "      <td>7a1029d2ab</td>\n",
              "      <td>8a1e6ce31f</td>\n",
              "    </tr>\n",
              "    <tr>\n",
              "      <th>5</th>\n",
              "      <td>ASSINIE</td>\n",
              "      <td>In Service</td>\n",
              "      <td>INTERIEUR</td>\n",
              "      <td>Grand-EST</td>\n",
              "      <td>ASSINIE\"</td>\n",
              "      <td>-3.488467</td>\n",
              "      <td>5.158761</td>\n",
              "      <td>SUD COMOE</td>\n",
              "      <td>NaN</td>\n",
              "      <td>0b4f56438f</td>\n",
              "      <td>8a1e6ce31f</td>\n",
              "    </tr>\n",
              "  </tbody>\n",
              "</table>\n",
              "</div>"
            ],
            "text/plain": [
              "      City      Status   Locality  ... Area     Cell_ID     Site_ID\n",
              "1   ADJAME  In Service    ABIDJAN  ...  NaN  1502501d78  0bb492ef17\n",
              "2   ADJAME  In Service    ABIDJAN  ...  NaN  0c2e182a0c  0bb492ef17\n",
              "3  ASSINIE  In Service  INTERIEUR  ...  NaN  69bdfc69fd  8a1e6ce31f\n",
              "4  ASSINIE  In Service  INTERIEUR  ...  NaN  7a1029d2ab  8a1e6ce31f\n",
              "5  ASSINIE  In Service  INTERIEUR  ...  NaN  0b4f56438f  8a1e6ce31f\n",
              "\n",
              "[5 rows x 11 columns]"
            ]
          },
          "metadata": {
            "tags": []
          },
          "execution_count": 18
        }
      ]
    },
    {
      "cell_type": "code",
      "metadata": {
        "id": "zhHT1pbnVV_E",
        "colab_type": "code",
        "outputId": "df67df9d-dda7-4b9e-aa29-af6bd622ede4",
        "colab": {
          "base_uri": "https://localhost:8080/",
          "height": 195
        }
      },
      "source": [
        "#Import CDR 20120507\n",
        "#Imported locally as it's noted to be faster than imported from direct URL.\n",
        "#Skipped row 0 which has headers. Renamed columns for ease of understanding as some column names are in French\n",
        "url ='/content/Telcom_dataset.csv'\n",
        "df_07 = pd.read_csv(url,header =0, names = ['Product','Value','Date_Time','Cell_On_Site','Party_A_Number','Party_B_Number','Country_A','Country_B','Cell_ID','Site_ID'])\n",
        "df_07.head()"
      ],
      "execution_count": 0,
      "outputs": [
        {
          "output_type": "execute_result",
          "data": {
            "text/html": [
              "<div>\n",
              "<style scoped>\n",
              "    .dataframe tbody tr th:only-of-type {\n",
              "        vertical-align: middle;\n",
              "    }\n",
              "\n",
              "    .dataframe tbody tr th {\n",
              "        vertical-align: top;\n",
              "    }\n",
              "\n",
              "    .dataframe thead th {\n",
              "        text-align: right;\n",
              "    }\n",
              "</style>\n",
              "<table border=\"1\" class=\"dataframe\">\n",
              "  <thead>\n",
              "    <tr style=\"text-align: right;\">\n",
              "      <th></th>\n",
              "      <th>Product</th>\n",
              "      <th>Value</th>\n",
              "      <th>Date_Time</th>\n",
              "      <th>Cell_On_Site</th>\n",
              "      <th>Party_A_Number</th>\n",
              "      <th>Party_B_Number</th>\n",
              "      <th>Country_A</th>\n",
              "      <th>Country_B</th>\n",
              "      <th>Cell_ID</th>\n",
              "      <th>Site_ID</th>\n",
              "    </tr>\n",
              "  </thead>\n",
              "  <tbody>\n",
              "    <tr>\n",
              "      <th>0</th>\n",
              "      <td>Voice</td>\n",
              "      <td>0</td>\n",
              "      <td>2012-05-06 23:04:37.0</td>\n",
              "      <td>1</td>\n",
              "      <td>49fae048b547780</td>\n",
              "      <td>1a49f8b0ded9de6</td>\n",
              "      <td>19e2e</td>\n",
              "      <td>19e2e</td>\n",
              "      <td>/TJNe+Mmtu</td>\n",
              "      <td>/TJNe+Mmtu</td>\n",
              "    </tr>\n",
              "    <tr>\n",
              "      <th>1</th>\n",
              "      <td>sms</td>\n",
              "      <td>0</td>\n",
              "      <td>2012-05-06 23:05:25.0</td>\n",
              "      <td>0</td>\n",
              "      <td>7a54a6eaee19e65</td>\n",
              "      <td>93343ba6e41af95</td>\n",
              "      <td>19e2e</td>\n",
              "      <td>19e2e</td>\n",
              "      <td>/+cKZKIp41</td>\n",
              "      <td>/+cKZKIp41</td>\n",
              "    </tr>\n",
              "    <tr>\n",
              "      <th>2</th>\n",
              "      <td>sms</td>\n",
              "      <td>25</td>\n",
              "      <td>2012-05-06 23:05:41.0</td>\n",
              "      <td>0</td>\n",
              "      <td>6008887b0207d82</td>\n",
              "      <td>7aacc9709ce0a20</td>\n",
              "      <td>19e2e</td>\n",
              "      <td>19e2e</td>\n",
              "      <td>/u0FSD+ahi</td>\n",
              "      <td>/u0FSD+ahi</td>\n",
              "    </tr>\n",
              "    <tr>\n",
              "      <th>3</th>\n",
              "      <td>Voice</td>\n",
              "      <td>56</td>\n",
              "      <td>2012-05-06 23:05:42.0</td>\n",
              "      <td>1</td>\n",
              "      <td>7370032e20f4e96</td>\n",
              "      <td>6af4a60e74c91d3</td>\n",
              "      <td>19e2e</td>\n",
              "      <td>19e2e</td>\n",
              "      <td>+cNeJzsTp3</td>\n",
              "      <td>+cNeJzsTp3</td>\n",
              "    </tr>\n",
              "    <tr>\n",
              "      <th>4</th>\n",
              "      <td>Voice</td>\n",
              "      <td>14</td>\n",
              "      <td>2012-05-06 23:06:29.0</td>\n",
              "      <td>1</td>\n",
              "      <td>966ba4656e38e62</td>\n",
              "      <td>02aa736ee555d5c</td>\n",
              "      <td>19e2e</td>\n",
              "      <td>19e2e</td>\n",
              "      <td>051KhYDCpv</td>\n",
              "      <td>051KhYDCpv</td>\n",
              "    </tr>\n",
              "  </tbody>\n",
              "</table>\n",
              "</div>"
            ],
            "text/plain": [
              "  Product  Value              Date_Time  ... Country_B     Cell_ID     Site_ID\n",
              "0   Voice      0  2012-05-06 23:04:37.0  ...     19e2e  /TJNe+Mmtu  /TJNe+Mmtu\n",
              "1     sms      0  2012-05-06 23:05:25.0  ...     19e2e  /+cKZKIp41  /+cKZKIp41\n",
              "2     sms     25  2012-05-06 23:05:41.0  ...     19e2e  /u0FSD+ahi  /u0FSD+ahi\n",
              "3   Voice     56  2012-05-06 23:05:42.0  ...     19e2e  +cNeJzsTp3  +cNeJzsTp3\n",
              "4   Voice     14  2012-05-06 23:06:29.0  ...     19e2e  051KhYDCpv  051KhYDCpv\n",
              "\n",
              "[5 rows x 10 columns]"
            ]
          },
          "metadata": {
            "tags": []
          },
          "execution_count": 19
        }
      ]
    },
    {
      "cell_type": "code",
      "metadata": {
        "id": "kknjEBGYYHU9",
        "colab_type": "code",
        "outputId": "40c3dcb0-e2cb-4a6a-8127-d1150e492c79",
        "colab": {
          "base_uri": "https://localhost:8080/",
          "height": 279
        }
      },
      "source": [
        "#Import CDR 20120508\n",
        "#Skipped row 0 which has headers. Renamed columns for ease of understanding as some column names are in French\n",
        "url = '/content/Telcom_dataset2.csv'\n",
        "df_08 = pd.read_csv(url,header =1, names = ['Product','Value','Date_Time','Cell_On_Site','Party_A_Number','Party_B_Number','Country_A','Country_B','Cell_ID','Site_ID'])\n",
        "df_08.head()"
      ],
      "execution_count": 0,
      "outputs": [
        {
          "output_type": "execute_result",
          "data": {
            "text/html": [
              "<div>\n",
              "<style scoped>\n",
              "    .dataframe tbody tr th:only-of-type {\n",
              "        vertical-align: middle;\n",
              "    }\n",
              "\n",
              "    .dataframe tbody tr th {\n",
              "        vertical-align: top;\n",
              "    }\n",
              "\n",
              "    .dataframe thead th {\n",
              "        text-align: right;\n",
              "    }\n",
              "</style>\n",
              "<table border=\"1\" class=\"dataframe\">\n",
              "  <thead>\n",
              "    <tr style=\"text-align: right;\">\n",
              "      <th></th>\n",
              "      <th>Product</th>\n",
              "      <th>Value</th>\n",
              "      <th>Date_Time</th>\n",
              "      <th>Cell_On_Site</th>\n",
              "      <th>Party_A_Number</th>\n",
              "      <th>Party_B_Number</th>\n",
              "      <th>Country_A</th>\n",
              "      <th>Country_B</th>\n",
              "      <th>Cell_ID</th>\n",
              "      <th>Site_ID</th>\n",
              "    </tr>\n",
              "  </thead>\n",
              "  <tbody>\n",
              "    <tr>\n",
              "      <th>0</th>\n",
              "      <td>Voice</td>\n",
              "      <td>0</td>\n",
              "      <td>2012-05-07 23:03:44.0</td>\n",
              "      <td>1</td>\n",
              "      <td>ff16d6ac74c1c64</td>\n",
              "      <td>87d87309c15a8c9</td>\n",
              "      <td>19e2e</td>\n",
              "      <td>19e2e</td>\n",
              "      <td>+854AcBQT2</td>\n",
              "      <td>+854AcBQT2</td>\n",
              "    </tr>\n",
              "    <tr>\n",
              "      <th>1</th>\n",
              "      <td>sms</td>\n",
              "      <td>0</td>\n",
              "      <td>2012-05-07 23:04:06.0</td>\n",
              "      <td>0</td>\n",
              "      <td>98d9f2fb5ff624b</td>\n",
              "      <td>93343ba6e41af95</td>\n",
              "      <td>19e2e</td>\n",
              "      <td>19e2e</td>\n",
              "      <td>+laSrk7g6q</td>\n",
              "      <td>+laSrk7g6q</td>\n",
              "    </tr>\n",
              "    <tr>\n",
              "      <th>2</th>\n",
              "      <td>Voice</td>\n",
              "      <td>37</td>\n",
              "      <td>2012-05-07 23:04:48.0</td>\n",
              "      <td>1</td>\n",
              "      <td>3f9c8a33ec7be1f</td>\n",
              "      <td>7d05a38f89c49d8</td>\n",
              "      <td>19e2e</td>\n",
              "      <td>19e2e</td>\n",
              "      <td>/xvRrCVKoQ</td>\n",
              "      <td>/xvRrCVKoQ</td>\n",
              "    </tr>\n",
              "    <tr>\n",
              "      <th>3</th>\n",
              "      <td>sms</td>\n",
              "      <td>25</td>\n",
              "      <td>2012-05-07 23:04:58.0</td>\n",
              "      <td>1</td>\n",
              "      <td>7bcccc03adf3864</td>\n",
              "      <td>56a5d5430d2fa86</td>\n",
              "      <td>19e2e</td>\n",
              "      <td>19e2e</td>\n",
              "      <td>+bO+qkSonO</td>\n",
              "      <td>+bO+qkSonO</td>\n",
              "    </tr>\n",
              "    <tr>\n",
              "      <th>4</th>\n",
              "      <td>sms</td>\n",
              "      <td>0</td>\n",
              "      <td>2012-05-07 23:05:41.0</td>\n",
              "      <td>4</td>\n",
              "      <td>d73f11fdc9fcb30</td>\n",
              "      <td>ec90fdb12b50cbc</td>\n",
              "      <td>19e2e</td>\n",
              "      <td>19e2e</td>\n",
              "      <td>/MMplBlWjh</td>\n",
              "      <td>/MMplBlWjh</td>\n",
              "    </tr>\n",
              "  </tbody>\n",
              "</table>\n",
              "</div>"
            ],
            "text/plain": [
              "  Product  Value              Date_Time  ... Country_B     Cell_ID     Site_ID\n",
              "0   Voice      0  2012-05-07 23:03:44.0  ...     19e2e  +854AcBQT2  +854AcBQT2\n",
              "1     sms      0  2012-05-07 23:04:06.0  ...     19e2e  +laSrk7g6q  +laSrk7g6q\n",
              "2   Voice     37  2012-05-07 23:04:48.0  ...     19e2e  /xvRrCVKoQ  /xvRrCVKoQ\n",
              "3     sms     25  2012-05-07 23:04:58.0  ...     19e2e  +bO+qkSonO  +bO+qkSonO\n",
              "4     sms      0  2012-05-07 23:05:41.0  ...     19e2e  /MMplBlWjh  /MMplBlWjh\n",
              "\n",
              "[5 rows x 10 columns]"
            ]
          },
          "metadata": {
            "tags": []
          },
          "execution_count": 20
        }
      ]
    },
    {
      "cell_type": "code",
      "metadata": {
        "id": "hdzrDL8wYfzd",
        "colab_type": "code",
        "outputId": "708bb14e-2cf7-467d-ef49-1a4adce9944b",
        "colab": {
          "base_uri": "https://localhost:8080/",
          "height": 195
        }
      },
      "source": [
        "#Import CDR 20120509\n",
        "#Skipped row 0 which has headers. Renamed columns for ease of understanding as some column names are in French\n",
        "url ='/content/Telcom_dataset3.csv'\n",
        "df_09 = pd.read_csv(url, header =1, names = ['Product','Value','Date_Time','Cell_On_Site','Party_A_Number','Party_B_Number','Country_A','Country_B','Cell_ID','Site_ID'])\n",
        "df_09.head()"
      ],
      "execution_count": 0,
      "outputs": [
        {
          "output_type": "execute_result",
          "data": {
            "text/html": [
              "<div>\n",
              "<style scoped>\n",
              "    .dataframe tbody tr th:only-of-type {\n",
              "        vertical-align: middle;\n",
              "    }\n",
              "\n",
              "    .dataframe tbody tr th {\n",
              "        vertical-align: top;\n",
              "    }\n",
              "\n",
              "    .dataframe thead th {\n",
              "        text-align: right;\n",
              "    }\n",
              "</style>\n",
              "<table border=\"1\" class=\"dataframe\">\n",
              "  <thead>\n",
              "    <tr style=\"text-align: right;\">\n",
              "      <th></th>\n",
              "      <th>Product</th>\n",
              "      <th>Value</th>\n",
              "      <th>Date_Time</th>\n",
              "      <th>Cell_On_Site</th>\n",
              "      <th>Party_A_Number</th>\n",
              "      <th>Party_B_Number</th>\n",
              "      <th>Country_A</th>\n",
              "      <th>Country_B</th>\n",
              "      <th>Cell_ID</th>\n",
              "      <th>Site_ID</th>\n",
              "    </tr>\n",
              "  </thead>\n",
              "  <tbody>\n",
              "    <tr>\n",
              "      <th>0</th>\n",
              "      <td>sms</td>\n",
              "      <td>0</td>\n",
              "      <td>2012-05-08 23:01:31.0</td>\n",
              "      <td>1</td>\n",
              "      <td>a0a597384c612d7</td>\n",
              "      <td>cf3b218f1dde792</td>\n",
              "      <td>19e2e</td>\n",
              "      <td>19e2e</td>\n",
              "      <td>+Fs4mTvdKx</td>\n",
              "      <td>+Fs4mTvdKx</td>\n",
              "    </tr>\n",
              "    <tr>\n",
              "      <th>1</th>\n",
              "      <td>Voice</td>\n",
              "      <td>10</td>\n",
              "      <td>2012-05-08 23:02:59.0</td>\n",
              "      <td>1</td>\n",
              "      <td>5441a9a58c97132</td>\n",
              "      <td>52f8b299515b9b7</td>\n",
              "      <td>19e2e</td>\n",
              "      <td>19e2e</td>\n",
              "      <td>+ZaaZozy/+</td>\n",
              "      <td>+ZaaZozy/+</td>\n",
              "    </tr>\n",
              "    <tr>\n",
              "      <th>2</th>\n",
              "      <td>sms</td>\n",
              "      <td>0</td>\n",
              "      <td>2012-05-08 23:03:04.0</td>\n",
              "      <td>0</td>\n",
              "      <td>8ab8b9ed6989f61</td>\n",
              "      <td>e09e736e46c5c3d</td>\n",
              "      <td>19e2e</td>\n",
              "      <td>19e2e</td>\n",
              "      <td>+cNeJzsTp3</td>\n",
              "      <td>+cNeJzsTp3</td>\n",
              "    </tr>\n",
              "    <tr>\n",
              "      <th>3</th>\n",
              "      <td>Voice</td>\n",
              "      <td>22</td>\n",
              "      <td>2012-05-08 23:03:16.0</td>\n",
              "      <td>4</td>\n",
              "      <td>52662a62b199334</td>\n",
              "      <td>2186273faab4602</td>\n",
              "      <td>19e2e</td>\n",
              "      <td>19e2e</td>\n",
              "      <td>/eeMklgyJA</td>\n",
              "      <td>/eeMklgyJA</td>\n",
              "    </tr>\n",
              "    <tr>\n",
              "      <th>4</th>\n",
              "      <td>Voice</td>\n",
              "      <td>10</td>\n",
              "      <td>2012-05-08 23:03:59.0</td>\n",
              "      <td>0</td>\n",
              "      <td>c572f692ed9d25f</td>\n",
              "      <td>5e6221fa6b35f62</td>\n",
              "      <td>19e2e</td>\n",
              "      <td>19e2e</td>\n",
              "      <td>+e+xcimwre</td>\n",
              "      <td>+e+xcimwre</td>\n",
              "    </tr>\n",
              "  </tbody>\n",
              "</table>\n",
              "</div>"
            ],
            "text/plain": [
              "  Product  Value              Date_Time  ... Country_B     Cell_ID     Site_ID\n",
              "0     sms      0  2012-05-08 23:01:31.0  ...     19e2e  +Fs4mTvdKx  +Fs4mTvdKx\n",
              "1   Voice     10  2012-05-08 23:02:59.0  ...     19e2e  +ZaaZozy/+  +ZaaZozy/+\n",
              "2     sms      0  2012-05-08 23:03:04.0  ...     19e2e  +cNeJzsTp3  +cNeJzsTp3\n",
              "3   Voice     22  2012-05-08 23:03:16.0  ...     19e2e  /eeMklgyJA  /eeMklgyJA\n",
              "4   Voice     10  2012-05-08 23:03:59.0  ...     19e2e  +e+xcimwre  +e+xcimwre\n",
              "\n",
              "[5 rows x 10 columns]"
            ]
          },
          "metadata": {
            "tags": []
          },
          "execution_count": 21
        }
      ]
    },
    {
      "cell_type": "markdown",
      "metadata": {
        "id": "wlDYEl34aYZ8",
        "colab_type": "text"
      },
      "source": [
        "###Data Understanding"
      ]
    },
    {
      "cell_type": "markdown",
      "metadata": {
        "id": "Bm1RffxycL9a",
        "colab_type": "text"
      },
      "source": [
        "**a) Cells Data**"
      ]
    },
    {
      "cell_type": "code",
      "metadata": {
        "id": "j8IxWybZcRmb",
        "colab_type": "code",
        "outputId": "009a5369-699b-4843-a648-89400815a3fb",
        "colab": {
          "base_uri": "https://localhost:8080/",
          "height": 454
        }
      },
      "source": [
        "#Cells Dataframe Information and it's descriptive statistics\n",
        "print(df_cells.info())\n",
        "print(df_cells.describe())"
      ],
      "execution_count": 0,
      "outputs": [
        {
          "output_type": "stream",
          "text": [
            "<class 'pandas.core.frame.DataFrame'>\n",
            "Int64Index: 3973 entries, 1 to 3973\n",
            "Data columns (total 11 columns):\n",
            "City                 3973 non-null object\n",
            "Status               3906 non-null object\n",
            "Locality             3973 non-null object\n",
            "Geographical_Zone    3973 non-null object\n",
            "Zone_Name            3967 non-null object\n",
            "Longitude            3973 non-null float64\n",
            "Latitude             3973 non-null float64\n",
            "Region               3973 non-null object\n",
            "Area                 3951 non-null object\n",
            "Cell_ID              3973 non-null object\n",
            "Site_ID              3973 non-null object\n",
            "dtypes: float64(2), object(9)\n",
            "memory usage: 372.5+ KB\n",
            "None\n",
            "         Longitude     Latitude\n",
            "count  3973.000000  3973.000000\n",
            "mean     -4.877880     6.244970\n",
            "std       1.300861     1.304289\n",
            "min      -8.503889     0.000000\n",
            "25%      -5.846139     5.338639\n",
            "50%      -4.084500     5.475000\n",
            "75%      -3.993444     6.872306\n",
            "max      -0.000000    10.481861\n"
          ],
          "name": "stdout"
        }
      ]
    },
    {
      "cell_type": "code",
      "metadata": {
        "id": "g-r4CVw40cnj",
        "colab_type": "code",
        "outputId": "3296c011-7075-4f96-dfd1-383db1467e0e",
        "colab": {
          "base_uri": "https://localhost:8080/",
          "height": 151
        }
      },
      "source": [
        "#Unique values in Cells Geographical data\n",
        "print (\"Unique Locality \", df_cells.Locality.nunique(), \" out of \" , df_cells.Locality.count())\n",
        "print (\"Unique Area \", df_cells.Area.nunique(), \" out of \" , df_cells.Area.count())\n",
        "print (\"Unique Geographical_Zone \", df_cells.Geographical_Zone.nunique(), \" out of \" , df_cells.Geographical_Zone.count())\n",
        "print (\"Unique Region \", df_cells.Region.nunique(), \" out of \" , df_cells.Region.count())\n",
        "print (\"Unique Zone_Name \", df_cells.Zone_Name.nunique(), \" out of \" , df_cells.Zone_Name.count())\n",
        "print (\"Unique cities \", df_cells.City.nunique(), \" out of \" , df_cells.City.count())\n",
        "print (\"Unique Site_Id \", df_cells.Site_ID.nunique(), \" out of \" , df_cells.Site_ID.count())\n",
        "print (\"Unique Cell_ID \", df_cells.Cell_ID.nunique(), \" out of \" , df_cells.Cell_ID.count())\n"
      ],
      "execution_count": 0,
      "outputs": [
        {
          "output_type": "stream",
          "text": [
            "Unique Locality  2  out of  3973\n",
            "Unique Area  6  out of  3951\n",
            "Unique Geographical_Zone  15  out of  3973\n",
            "Unique Region  19  out of  3973\n",
            "Unique Zone_Name  33  out of  3967\n",
            "Unique cities  504  out of  3973\n",
            "Unique Site_Id  1029  out of  3973\n",
            "Unique Cell_ID  3915  out of  3973\n"
          ],
          "name": "stdout"
        }
      ]
    },
    {
      "cell_type": "code",
      "metadata": {
        "id": "MHyhwgOo4s8N",
        "colab_type": "code",
        "outputId": "8cedb4de-2c68-47a1-e9de-314a153b6e75",
        "colab": {
          "base_uri": "https://localhost:8080/",
          "height": 34
        }
      },
      "source": [
        "#Status\n",
        "list(df_cells.Status.unique())"
      ],
      "execution_count": 0,
      "outputs": [
        {
          "output_type": "execute_result",
          "data": {
            "text/plain": [
              "['In Service', nan]"
            ]
          },
          "metadata": {
            "tags": []
          },
          "execution_count": 24
        }
      ]
    },
    {
      "cell_type": "code",
      "metadata": {
        "id": "UH8VeivS5xCE",
        "colab_type": "code",
        "outputId": "7f149b59-2e12-4a30-ae28-ee8169529ccf",
        "colab": {
          "base_uri": "https://localhost:8080/",
          "height": 218
        }
      },
      "source": [
        "#Null values\n",
        "print(df_cells.isnull().sum())"
      ],
      "execution_count": 0,
      "outputs": [
        {
          "output_type": "stream",
          "text": [
            "City                  0\n",
            "Status               67\n",
            "Locality              0\n",
            "Geographical_Zone     0\n",
            "Zone_Name             6\n",
            "Longitude             0\n",
            "Latitude              0\n",
            "Region                0\n",
            "Area                 22\n",
            "Cell_ID               0\n",
            "Site_ID               0\n",
            "dtype: int64\n"
          ],
          "name": "stdout"
        }
      ]
    },
    {
      "cell_type": "markdown",
      "metadata": {
        "id": "COnmg5zg497U",
        "colab_type": "text"
      },
      "source": [
        "**Cells Data Observations:**\n",
        "1. Uniqueness of datasets from smallest to largest -> Locality -> Area -> Geographical Zone -> Region -> Zone Name -> Cities ->Site Code -> Cell ID\n",
        "\n",
        "2. Status has two distinct values -> In service and Null values\n",
        "\n",
        "3. Status and Area are the two columns with null values\n"
      ]
    },
    {
      "cell_type": "markdown",
      "metadata": {
        "id": "wg1yA0GXcN0a",
        "colab_type": "text"
      },
      "source": [
        "**b) CDR Data**"
      ]
    },
    {
      "cell_type": "code",
      "metadata": {
        "id": "iL73vrBlcY9I",
        "colab_type": "code",
        "outputId": "d309ac01-f194-4efb-c198-cb5e31829986",
        "colab": {
          "base_uri": "https://localhost:8080/",
          "height": 672
        }
      },
      "source": [
        "#07 CDR Dataframe Information and it's descriptive statistics\n",
        "print(\"Cells Geographic Information\")\n",
        "print(df_07.info())\n",
        "print(\"Cells Descriptive Statistics\")\n",
        "print(df_07.describe())\n",
        "print(\"Null Values in Cells Dataset\")\n",
        "print(df_07.isnull().sum())"
      ],
      "execution_count": 0,
      "outputs": [
        {
          "output_type": "stream",
          "text": [
            "Cells Geographic Information\n",
            "<class 'pandas.core.frame.DataFrame'>\n",
            "RangeIndex: 5001 entries, 0 to 5000\n",
            "Data columns (total 10 columns):\n",
            "Product           5001 non-null object\n",
            "Value             5001 non-null int64\n",
            "Date_Time         5001 non-null object\n",
            "Cell_On_Site      5001 non-null object\n",
            "Party_A_Number    5001 non-null object\n",
            "Party_B_Number    5001 non-null object\n",
            "Country_A         5001 non-null object\n",
            "Country_B         5001 non-null object\n",
            "Cell_ID           5001 non-null object\n",
            "Site_ID           4285 non-null object\n",
            "dtypes: int64(1), object(9)\n",
            "memory usage: 390.8+ KB\n",
            "None\n",
            "Cells Descriptive Statistics\n",
            "             Value\n",
            "count  5001.000000\n",
            "mean     25.869626\n",
            "std     101.934502\n",
            "min       0.000000\n",
            "25%       0.000000\n",
            "50%       0.000000\n",
            "75%      25.000000\n",
            "max    4440.000000\n",
            "Null Values in Cells Dataset\n",
            "Product             0\n",
            "Value               0\n",
            "Date_Time           0\n",
            "Cell_On_Site        0\n",
            "Party_A_Number      0\n",
            "Party_B_Number      0\n",
            "Country_A           0\n",
            "Country_B           0\n",
            "Cell_ID             0\n",
            "Site_ID           716\n",
            "dtype: int64\n"
          ],
          "name": "stdout"
        }
      ]
    },
    {
      "cell_type": "code",
      "metadata": {
        "id": "mZtGghnTjI0K",
        "colab_type": "code",
        "outputId": "9114c258-554d-407a-f87a-87b42ffc1571",
        "colab": {
          "base_uri": "https://localhost:8080/",
          "height": 672
        }
      },
      "source": [
        "#08 CDR Dataframe Information and it's descriptive statistics\n",
        "print(\"08 CDR Geographic Information\")\n",
        "print(df_08.info())\n",
        "print(\"08 CDR Descriptive Statistics\")\n",
        "print(df_08.describe())\n",
        "print(\"Null Values in 08 CDR Dataset\")\n",
        "print(df_08.isnull().sum())"
      ],
      "execution_count": 0,
      "outputs": [
        {
          "output_type": "stream",
          "text": [
            "08 CDR Geographic Information\n",
            "<class 'pandas.core.frame.DataFrame'>\n",
            "RangeIndex: 5000 entries, 0 to 4999\n",
            "Data columns (total 10 columns):\n",
            "Product           5000 non-null object\n",
            "Value             5000 non-null int64\n",
            "Date_Time         5000 non-null object\n",
            "Cell_On_Site      5000 non-null object\n",
            "Party_A_Number    5000 non-null object\n",
            "Party_B_Number    5000 non-null object\n",
            "Country_A         5000 non-null object\n",
            "Country_B         5000 non-null object\n",
            "Cell_ID           5000 non-null object\n",
            "Site_ID           4324 non-null object\n",
            "dtypes: int64(1), object(9)\n",
            "memory usage: 390.8+ KB\n",
            "None\n",
            "08 CDR Descriptive Statistics\n",
            "             Value\n",
            "count  5000.000000\n",
            "mean     24.339800\n",
            "std      97.480726\n",
            "min       0.000000\n",
            "25%       0.000000\n",
            "50%       0.000000\n",
            "75%      25.000000\n",
            "max    3380.000000\n",
            "Null Values in 08 CDR Dataset\n",
            "Product             0\n",
            "Value               0\n",
            "Date_Time           0\n",
            "Cell_On_Site        0\n",
            "Party_A_Number      0\n",
            "Party_B_Number      0\n",
            "Country_A           0\n",
            "Country_B           0\n",
            "Cell_ID             0\n",
            "Site_ID           676\n",
            "dtype: int64\n"
          ],
          "name": "stdout"
        }
      ]
    },
    {
      "cell_type": "code",
      "metadata": {
        "id": "uZY1fGqFhRdH",
        "colab_type": "code",
        "outputId": "3c3e54fe-304e-426d-d033-ba02112bbc3e",
        "colab": {
          "base_uri": "https://localhost:8080/",
          "height": 672
        }
      },
      "source": [
        "#09 CDR Dataframe Information and it's descriptive statistics\n",
        "print(\"09 CDR Geographic Information\")\n",
        "print(df_09.info())\n",
        "print(\"09 CDR Descriptive Statistics\")\n",
        "print(df_09.describe())\n",
        "print(\"Null Values in 09 CDR Dataset\")\n",
        "print(df_09.isnull().sum())"
      ],
      "execution_count": 0,
      "outputs": [
        {
          "output_type": "stream",
          "text": [
            "09 CDR Geographic Information\n",
            "<class 'pandas.core.frame.DataFrame'>\n",
            "RangeIndex: 5000 entries, 0 to 4999\n",
            "Data columns (total 10 columns):\n",
            "Product           5000 non-null object\n",
            "Value             5000 non-null int64\n",
            "Date_Time         5000 non-null object\n",
            "Cell_On_Site      5000 non-null object\n",
            "Party_A_Number    5000 non-null object\n",
            "Party_B_Number    5000 non-null object\n",
            "Country_A         5000 non-null object\n",
            "Country_B         5000 non-null object\n",
            "Cell_ID           5000 non-null object\n",
            "Site_ID           4395 non-null object\n",
            "dtypes: int64(1), object(9)\n",
            "memory usage: 390.8+ KB\n",
            "None\n",
            "09 CDR Descriptive Statistics\n",
            "              Value\n",
            "count   5000.000000\n",
            "mean      26.434600\n",
            "std      224.222108\n",
            "min        0.000000\n",
            "25%        0.000000\n",
            "50%        0.000000\n",
            "75%       25.000000\n",
            "max    12900.000000\n",
            "Null Values in 09 CDR Dataset\n",
            "Product             0\n",
            "Value               0\n",
            "Date_Time           0\n",
            "Cell_On_Site        0\n",
            "Party_A_Number      0\n",
            "Party_B_Number      0\n",
            "Country_A           0\n",
            "Country_B           0\n",
            "Cell_ID             0\n",
            "Site_ID           605\n",
            "dtype: int64\n"
          ],
          "name": "stdout"
        }
      ]
    },
    {
      "cell_type": "code",
      "metadata": {
        "id": "iSY6RhFH9j9D",
        "colab_type": "code",
        "outputId": "09daf615-ff9d-4c7e-830a-e55077a4e8bb",
        "colab": {
          "base_uri": "https://localhost:8080/",
          "height": 470
        }
      },
      "source": [
        "#Unique values\n",
        "#07 Dataset\n",
        "print(\"07 Dataset\")\n",
        "print (\"Unique Country_A \", df_07.Country_A.nunique(), \" out of \" , df_07.Country_A.count())\n",
        "print (\"Unique Country_B \", df_07.Country_B.nunique(), \" out of \" , df_07.Country_B.count())\n",
        "print (\"Unique Product \",   df_07.Product.nunique(),   \" out of \" , df_07.Product.count())\n",
        "print (\"Unique Cell_On_Site \", df_07.Cell_On_Site.nunique(), \" out of \" , df_07.Cell_On_Site.count())\n",
        "print (\"Unique Site_ID \", df_07.Site_ID.nunique(), \" out of \" , df_07.Site_ID.count())\n",
        "print (\"Unique Cell_ID \", df_07.Cell_ID.nunique(), \" out of \" , df_07.Cell_ID.count())\n",
        "print (\"Unique Party_A_Number \", df_07.Party_A_Number.nunique(), \" out of \" , df_07.Party_A_Number.count())\n",
        "print (\"Unique Party_B_Number \", df_07.Party_B_Number.nunique(), \" out of \" , df_07.Party_B_Number.count())\n",
        "#08 Dataset\n",
        "print(\"08 Dataset\")\n",
        "print (\"Unique Country_A \", df_08.Country_A.nunique(), \" out of \" , df_08.Country_A.count())\n",
        "print (\"Unique Country_B \", df_08.Country_B.nunique(), \" out of \" , df_08.Country_B.count())\n",
        "print (\"Unique Product \",   df_08.Product.nunique(),   \" out of \" , df_08.Product.count())\n",
        "print (\"Unique Cell_On_Site \", df_08.Cell_On_Site.nunique(), \" out of \" , df_08.Cell_On_Site.count())\n",
        "print (\"Unique Site_ID \", df_08.Site_ID.nunique(), \" out of \" , df_08.Site_ID.count())\n",
        "print (\"Unique Cell_ID \", df_08.Cell_ID.nunique(), \" out of \" , df_08.Cell_ID.count())\n",
        "print (\"Unique Party_A_Number \", df_08.Party_A_Number.nunique(), \" out of \" , df_08.Party_A_Number.count())\n",
        "print (\"Unique Party_B_Number \", df_08.Party_B_Number.nunique(), \" out of \" , df_08.Party_B_Number.count())\n",
        "#09 Dataset\n",
        "print(\"09 Dataset\")\n",
        "print (\"Unique Country_A \", df_09.Country_A.nunique(), \" out of \" , df_09.Country_A.count())\n",
        "print (\"Unique Country_B \", df_09.Country_B.nunique(), \" out of \" , df_09.Country_B.count())\n",
        "print (\"Unique Product \",   df_09.Product.nunique(),   \" out of \" , df_09.Product.count())\n",
        "print (\"Unique Cell_On_Site \", df_09.Cell_On_Site.nunique(), \" out of \" , df_09.Cell_On_Site.count())\n",
        "print (\"Unique Site_ID \", df_09.Site_ID.nunique(), \" out of \" , df_09.Site_ID.count())\n",
        "print (\"Unique Cell_ID \", df_09.Cell_ID.nunique(), \" out of \" , df_09.Cell_ID.count())\n",
        "print (\"Unique Party_A_Number \", df_09.Party_A_Number.nunique(), \" out of \" , df_09.Party_A_Number.count())\n",
        "print (\"Unique Party_B_Number \", df_09.Party_B_Number.nunique(), \" out of \" , df_09.Party_B_Number.count())"
      ],
      "execution_count": 0,
      "outputs": [
        {
          "output_type": "stream",
          "text": [
            "07 Dataset\n",
            "Unique Country_A  1  out of  5001\n",
            "Unique Country_B  2  out of  5001\n",
            "Unique Product  3  out of  5001\n",
            "Unique Cell_On_Site  7  out of  5001\n",
            "Unique Site_ID  1076  out of  4285\n",
            "Unique Cell_ID  1790  out of  5001\n",
            "Unique Party_A_Number  3903  out of  5001\n",
            "Unique Party_B_Number  2848  out of  5001\n",
            "08 Dataset\n",
            "Unique Country_A  1  out of  5000\n",
            "Unique Country_B  2  out of  5000\n",
            "Unique Product  3  out of  5000\n",
            "Unique Cell_On_Site  8  out of  5000\n",
            "Unique Site_ID  1027  out of  4324\n",
            "Unique Cell_ID  1661  out of  5000\n",
            "Unique Party_A_Number  3799  out of  5000\n",
            "Unique Party_B_Number  2882  out of  5000\n",
            "09 Dataset\n",
            "Unique Country_A  1  out of  5000\n",
            "Unique Country_B  2  out of  5000\n",
            "Unique Product  3  out of  5000\n",
            "Unique Cell_On_Site  9  out of  5000\n",
            "Unique Site_ID  961  out of  4395\n",
            "Unique Cell_ID  1596  out of  5000\n",
            "Unique Party_A_Number  3593  out of  5000\n",
            "Unique Party_B_Number  2895  out of  5000\n"
          ],
          "name": "stdout"
        }
      ]
    },
    {
      "cell_type": "code",
      "metadata": {
        "id": "D8lg0irC-SV_",
        "colab_type": "code",
        "outputId": "f1ce51dd-b274-4260-e457-1ffb08a2a607",
        "colab": {
          "base_uri": "https://localhost:8080/",
          "height": 195
        }
      },
      "source": [
        "df_07.head()"
      ],
      "execution_count": 0,
      "outputs": [
        {
          "output_type": "execute_result",
          "data": {
            "text/html": [
              "<div>\n",
              "<style scoped>\n",
              "    .dataframe tbody tr th:only-of-type {\n",
              "        vertical-align: middle;\n",
              "    }\n",
              "\n",
              "    .dataframe tbody tr th {\n",
              "        vertical-align: top;\n",
              "    }\n",
              "\n",
              "    .dataframe thead th {\n",
              "        text-align: right;\n",
              "    }\n",
              "</style>\n",
              "<table border=\"1\" class=\"dataframe\">\n",
              "  <thead>\n",
              "    <tr style=\"text-align: right;\">\n",
              "      <th></th>\n",
              "      <th>Product</th>\n",
              "      <th>Value</th>\n",
              "      <th>Date_Time</th>\n",
              "      <th>Cell_On_Site</th>\n",
              "      <th>Party_A_Number</th>\n",
              "      <th>Party_B_Number</th>\n",
              "      <th>Country_A</th>\n",
              "      <th>Country_B</th>\n",
              "      <th>Cell_ID</th>\n",
              "      <th>Site_ID</th>\n",
              "    </tr>\n",
              "  </thead>\n",
              "  <tbody>\n",
              "    <tr>\n",
              "      <th>0</th>\n",
              "      <td>Voice</td>\n",
              "      <td>0</td>\n",
              "      <td>2012-05-06 23:04:37.0</td>\n",
              "      <td>1</td>\n",
              "      <td>49fae048b547780</td>\n",
              "      <td>1a49f8b0ded9de6</td>\n",
              "      <td>19e2e</td>\n",
              "      <td>19e2e</td>\n",
              "      <td>/TJNe+Mmtu</td>\n",
              "      <td>/TJNe+Mmtu</td>\n",
              "    </tr>\n",
              "    <tr>\n",
              "      <th>1</th>\n",
              "      <td>sms</td>\n",
              "      <td>0</td>\n",
              "      <td>2012-05-06 23:05:25.0</td>\n",
              "      <td>0</td>\n",
              "      <td>7a54a6eaee19e65</td>\n",
              "      <td>93343ba6e41af95</td>\n",
              "      <td>19e2e</td>\n",
              "      <td>19e2e</td>\n",
              "      <td>/+cKZKIp41</td>\n",
              "      <td>/+cKZKIp41</td>\n",
              "    </tr>\n",
              "    <tr>\n",
              "      <th>2</th>\n",
              "      <td>sms</td>\n",
              "      <td>25</td>\n",
              "      <td>2012-05-06 23:05:41.0</td>\n",
              "      <td>0</td>\n",
              "      <td>6008887b0207d82</td>\n",
              "      <td>7aacc9709ce0a20</td>\n",
              "      <td>19e2e</td>\n",
              "      <td>19e2e</td>\n",
              "      <td>/u0FSD+ahi</td>\n",
              "      <td>/u0FSD+ahi</td>\n",
              "    </tr>\n",
              "    <tr>\n",
              "      <th>3</th>\n",
              "      <td>Voice</td>\n",
              "      <td>56</td>\n",
              "      <td>2012-05-06 23:05:42.0</td>\n",
              "      <td>1</td>\n",
              "      <td>7370032e20f4e96</td>\n",
              "      <td>6af4a60e74c91d3</td>\n",
              "      <td>19e2e</td>\n",
              "      <td>19e2e</td>\n",
              "      <td>+cNeJzsTp3</td>\n",
              "      <td>+cNeJzsTp3</td>\n",
              "    </tr>\n",
              "    <tr>\n",
              "      <th>4</th>\n",
              "      <td>Voice</td>\n",
              "      <td>14</td>\n",
              "      <td>2012-05-06 23:06:29.0</td>\n",
              "      <td>1</td>\n",
              "      <td>966ba4656e38e62</td>\n",
              "      <td>02aa736ee555d5c</td>\n",
              "      <td>19e2e</td>\n",
              "      <td>19e2e</td>\n",
              "      <td>051KhYDCpv</td>\n",
              "      <td>051KhYDCpv</td>\n",
              "    </tr>\n",
              "  </tbody>\n",
              "</table>\n",
              "</div>"
            ],
            "text/plain": [
              "  Product  Value              Date_Time  ... Country_B     Cell_ID     Site_ID\n",
              "0   Voice      0  2012-05-06 23:04:37.0  ...     19e2e  /TJNe+Mmtu  /TJNe+Mmtu\n",
              "1     sms      0  2012-05-06 23:05:25.0  ...     19e2e  /+cKZKIp41  /+cKZKIp41\n",
              "2     sms     25  2012-05-06 23:05:41.0  ...     19e2e  /u0FSD+ahi  /u0FSD+ahi\n",
              "3   Voice     56  2012-05-06 23:05:42.0  ...     19e2e  +cNeJzsTp3  +cNeJzsTp3\n",
              "4   Voice     14  2012-05-06 23:06:29.0  ...     19e2e  051KhYDCpv  051KhYDCpv\n",
              "\n",
              "[5 rows x 10 columns]"
            ]
          },
          "metadata": {
            "tags": []
          },
          "execution_count": 30
        }
      ]
    },
    {
      "cell_type": "code",
      "metadata": {
        "id": "1FIQGwNXMynG",
        "colab_type": "code",
        "outputId": "d09b425f-61fc-4d07-9894-8932f9f74a49",
        "colab": {
          "base_uri": "https://localhost:8080/",
          "height": 252
        }
      },
      "source": [
        "#Check duplicates\n",
        "print(df_07[df_07.duplicated(keep=False)])"
      ],
      "execution_count": 0,
      "outputs": [
        {
          "output_type": "stream",
          "text": [
            "     Product  Value              Date_Time  ... Country_B     Cell_ID     Site_ID\n",
            "765      sms      0  2012-05-07 00:00:03.0  ...     19e2e  23c5372bd3  e942f32a29\n",
            "769      sms     25  2012-05-07 00:00:03.0  ...     19e2e  a6606f4ac1  c6400e443f\n",
            "793      sms      0  2012-05-07 00:00:03.0  ...     19e2e  23c5372bd3  e942f32a29\n",
            "794      sms     25  2012-05-07 00:00:03.0  ...     19e2e  a6606f4ac1  c6400e443f\n",
            "795    Voice      0  2012-05-07 00:00:04.0  ...     19e2e  4a7047f1ba  dea1e52d3b\n",
            "...      ...    ...                    ...  ...       ...         ...         ...\n",
            "4864   Voice   1610  2012-05-07 00:01:50.0  ...     19e2e  89b82605a0  5324bc6c24\n",
            "4932   Voice      0  2012-05-07 00:01:52.0  ...     19e2e  d6abb7e15f  f72cd95f00\n",
            "4943   Voice      0  2012-05-07 00:01:52.0  ...     19e2e  d6abb7e15f  f72cd95f00\n",
            "4944   Voice     60  2012-05-07 00:01:53.0  ...     19e2e  fd754bd0d0  e82c07d996\n",
            "4970   Voice     60  2012-05-07 00:01:53.0  ...     19e2e  fd754bd0d0  e82c07d996\n",
            "\n",
            "[164 rows x 10 columns]\n"
          ],
          "name": "stdout"
        }
      ]
    },
    {
      "cell_type": "markdown",
      "metadata": {
        "id": "8KBnPVI9cPo-",
        "colab_type": "text"
      },
      "source": [
        "**Telecom Data Observations**"
      ]
    },
    {
      "cell_type": "markdown",
      "metadata": {
        "id": "vvJyGaeM7d9X",
        "colab_type": "text"
      },
      "source": [
        "1. Value column is of Integer data type. All other columns are strings\n",
        "2. Site ID is the only column with null values across the three datasets\n",
        "3. There are three unique values of product i.e Voice, SMS and Data\n",
        "\n",
        "4. Duplicate records noted. More business understanding analysis to decide if to keep them or eliminate them needed\n",
        " "
      ]
    },
    {
      "cell_type": "markdown",
      "metadata": {
        "id": "2ozWSOQp7aFs",
        "colab_type": "text"
      },
      "source": [
        "Action Items"
      ]
    },
    {
      "cell_type": "markdown",
      "metadata": {
        "id": "VIrB7jZ2gl-p",
        "colab_type": "text"
      },
      "source": [
        "Actions\n",
        "\n",
        "a) Date_Time needs to be changed to date type\n",
        "\n",
        "b) Country A and Country B needs to be dropped as they are not required as per project description\n",
        "c) Since the 3 datasets have similar fields, they can be combined for ease of cleanup and analysis"
      ]
    },
    {
      "cell_type": "markdown",
      "metadata": {
        "id": "gqvFruq4cG4k",
        "colab_type": "text"
      },
      "source": [
        "###Data Cleanup"
      ]
    },
    {
      "cell_type": "code",
      "metadata": {
        "id": "rBnxjcEbEyZV",
        "colab_type": "code",
        "outputId": "7db895fe-0292-4e58-efc4-7c6651f6c5c0",
        "colab": {
          "base_uri": "https://localhost:8080/",
          "height": 269
        }
      },
      "source": [
        "#Combine the CDR datasets\n",
        "df_cdr = pd.concat([df_07,df_08,df_09], axis=0)\n",
        "df_cdr.info()"
      ],
      "execution_count": 0,
      "outputs": [
        {
          "output_type": "stream",
          "text": [
            "<class 'pandas.core.frame.DataFrame'>\n",
            "Int64Index: 15001 entries, 0 to 4999\n",
            "Data columns (total 10 columns):\n",
            "Product           15001 non-null object\n",
            "Value             15001 non-null int64\n",
            "Date_Time         15001 non-null object\n",
            "Cell_On_Site      15001 non-null object\n",
            "Party_A_Number    15001 non-null object\n",
            "Party_B_Number    15001 non-null object\n",
            "Country_A         15001 non-null object\n",
            "Country_B         15001 non-null object\n",
            "Cell_ID           15001 non-null object\n",
            "Site_ID           13004 non-null object\n",
            "dtypes: int64(1), object(9)\n",
            "memory usage: 1.3+ MB\n"
          ],
          "name": "stdout"
        }
      ]
    },
    {
      "cell_type": "code",
      "metadata": {
        "id": "RjRXpacTs3tX",
        "colab_type": "code",
        "colab": {}
      },
      "source": [
        ""
      ],
      "execution_count": 0,
      "outputs": []
    },
    {
      "cell_type": "code",
      "metadata": {
        "id": "PWdgDE9Af01E",
        "colab_type": "code",
        "colab": {}
      },
      "source": [
        "#Change data types of date columns which are storing date values to date for ease of calculation\n",
        "df_cdr['Date_Time'] = pd.to_datetime(df_cdr['Date_Time'])"
      ],
      "execution_count": 0,
      "outputs": []
    },
    {
      "cell_type": "code",
      "metadata": {
        "id": "e2DLwjIpasCE",
        "colab_type": "code",
        "outputId": "d8a212bc-fa08-41b5-d363-3f61fc23237f",
        "colab": {
          "base_uri": "https://localhost:8080/",
          "height": 269
        }
      },
      "source": [
        "#Check if Data type changed\n",
        "df_cdr.info()"
      ],
      "execution_count": 0,
      "outputs": [
        {
          "output_type": "stream",
          "text": [
            "<class 'pandas.core.frame.DataFrame'>\n",
            "Int64Index: 15001 entries, 0 to 4999\n",
            "Data columns (total 10 columns):\n",
            "Product           15001 non-null object\n",
            "Value             15001 non-null int64\n",
            "Date_Time         15001 non-null datetime64[ns]\n",
            "Cell_On_Site      15001 non-null object\n",
            "Party_A_Number    15001 non-null object\n",
            "Party_B_Number    15001 non-null object\n",
            "Country_A         15001 non-null object\n",
            "Country_B         15001 non-null object\n",
            "Cell_ID           15001 non-null object\n",
            "Site_ID           13004 non-null object\n",
            "dtypes: datetime64[ns](1), int64(1), object(8)\n",
            "memory usage: 1.3+ MB\n"
          ],
          "name": "stdout"
        }
      ]
    },
    {
      "cell_type": "code",
      "metadata": {
        "id": "fpA-t0xGafGO",
        "colab_type": "code",
        "outputId": "70332682-ceba-4f0d-9fbd-3e8e8336c038",
        "colab": {
          "base_uri": "https://localhost:8080/",
          "height": 402
        }
      },
      "source": [
        "#Drop Not required Columns\n",
        "df_cdr.drop(['Country_A', 'Country_B'], axis=1)"
      ],
      "execution_count": 0,
      "outputs": [
        {
          "output_type": "execute_result",
          "data": {
            "text/html": [
              "<div>\n",
              "<style scoped>\n",
              "    .dataframe tbody tr th:only-of-type {\n",
              "        vertical-align: middle;\n",
              "    }\n",
              "\n",
              "    .dataframe tbody tr th {\n",
              "        vertical-align: top;\n",
              "    }\n",
              "\n",
              "    .dataframe thead th {\n",
              "        text-align: right;\n",
              "    }\n",
              "</style>\n",
              "<table border=\"1\" class=\"dataframe\">\n",
              "  <thead>\n",
              "    <tr style=\"text-align: right;\">\n",
              "      <th></th>\n",
              "      <th>Product</th>\n",
              "      <th>Value</th>\n",
              "      <th>Date_Time</th>\n",
              "      <th>Cell_On_Site</th>\n",
              "      <th>Party_A_Number</th>\n",
              "      <th>Party_B_Number</th>\n",
              "      <th>Cell_ID</th>\n",
              "      <th>Site_ID</th>\n",
              "    </tr>\n",
              "  </thead>\n",
              "  <tbody>\n",
              "    <tr>\n",
              "      <th>0</th>\n",
              "      <td>Voice</td>\n",
              "      <td>0</td>\n",
              "      <td>2012-05-06 23:04:37</td>\n",
              "      <td>1</td>\n",
              "      <td>49fae048b547780</td>\n",
              "      <td>1a49f8b0ded9de6</td>\n",
              "      <td>/TJNe+Mmtu</td>\n",
              "      <td>/TJNe+Mmtu</td>\n",
              "    </tr>\n",
              "    <tr>\n",
              "      <th>1</th>\n",
              "      <td>sms</td>\n",
              "      <td>0</td>\n",
              "      <td>2012-05-06 23:05:25</td>\n",
              "      <td>0</td>\n",
              "      <td>7a54a6eaee19e65</td>\n",
              "      <td>93343ba6e41af95</td>\n",
              "      <td>/+cKZKIp41</td>\n",
              "      <td>/+cKZKIp41</td>\n",
              "    </tr>\n",
              "    <tr>\n",
              "      <th>2</th>\n",
              "      <td>sms</td>\n",
              "      <td>25</td>\n",
              "      <td>2012-05-06 23:05:41</td>\n",
              "      <td>0</td>\n",
              "      <td>6008887b0207d82</td>\n",
              "      <td>7aacc9709ce0a20</td>\n",
              "      <td>/u0FSD+ahi</td>\n",
              "      <td>/u0FSD+ahi</td>\n",
              "    </tr>\n",
              "    <tr>\n",
              "      <th>3</th>\n",
              "      <td>Voice</td>\n",
              "      <td>56</td>\n",
              "      <td>2012-05-06 23:05:42</td>\n",
              "      <td>1</td>\n",
              "      <td>7370032e20f4e96</td>\n",
              "      <td>6af4a60e74c91d3</td>\n",
              "      <td>+cNeJzsTp3</td>\n",
              "      <td>+cNeJzsTp3</td>\n",
              "    </tr>\n",
              "    <tr>\n",
              "      <th>4</th>\n",
              "      <td>Voice</td>\n",
              "      <td>14</td>\n",
              "      <td>2012-05-06 23:06:29</td>\n",
              "      <td>1</td>\n",
              "      <td>966ba4656e38e62</td>\n",
              "      <td>02aa736ee555d5c</td>\n",
              "      <td>051KhYDCpv</td>\n",
              "      <td>051KhYDCpv</td>\n",
              "    </tr>\n",
              "    <tr>\n",
              "      <th>...</th>\n",
              "      <td>...</td>\n",
              "      <td>...</td>\n",
              "      <td>...</td>\n",
              "      <td>...</td>\n",
              "      <td>...</td>\n",
              "      <td>...</td>\n",
              "      <td>...</td>\n",
              "      <td>...</td>\n",
              "    </tr>\n",
              "    <tr>\n",
              "      <th>4995</th>\n",
              "      <td>Voice</td>\n",
              "      <td>0</td>\n",
              "      <td>2012-05-09 00:01:43</td>\n",
              "      <td>3</td>\n",
              "      <td>467333ade2b4b9c</td>\n",
              "      <td>0ab2acd804d01fe</td>\n",
              "      <td>2aa04dcab7</td>\n",
              "      <td>f7d63a29e5</td>\n",
              "    </tr>\n",
              "    <tr>\n",
              "      <th>4996</th>\n",
              "      <td>Voice</td>\n",
              "      <td>62</td>\n",
              "      <td>2012-05-09 00:01:43</td>\n",
              "      <td>1</td>\n",
              "      <td>e077a6b74c5053c</td>\n",
              "      <td>4c8098eb6ea1a41</td>\n",
              "      <td>7f1f2f889f</td>\n",
              "      <td>b4ddb9e93c</td>\n",
              "    </tr>\n",
              "    <tr>\n",
              "      <th>4997</th>\n",
              "      <td>Voice</td>\n",
              "      <td>32</td>\n",
              "      <td>2012-05-09 00:01:43</td>\n",
              "      <td>1</td>\n",
              "      <td>77f53c39d27c050</td>\n",
              "      <td>9d064f013e2cab2</td>\n",
              "      <td>a4731e780e</td>\n",
              "      <td>d68260ef50</td>\n",
              "    </tr>\n",
              "    <tr>\n",
              "      <th>4998</th>\n",
              "      <td>Voice</td>\n",
              "      <td>30</td>\n",
              "      <td>2012-05-09 00:01:43</td>\n",
              "      <td>2</td>\n",
              "      <td>672ce74c418aa7a</td>\n",
              "      <td>f9ff5af59cf0d68</td>\n",
              "      <td>98ed726da2</td>\n",
              "      <td>b4130b54ab</td>\n",
              "    </tr>\n",
              "    <tr>\n",
              "      <th>4999</th>\n",
              "      <td>Voice</td>\n",
              "      <td>60</td>\n",
              "      <td>2012-05-09 00:01:43</td>\n",
              "      <td>2</td>\n",
              "      <td>6edeb4c55714650</td>\n",
              "      <td>7e60838216482a7</td>\n",
              "      <td>1c11a2fcbb</td>\n",
              "      <td>6d70dae094</td>\n",
              "    </tr>\n",
              "  </tbody>\n",
              "</table>\n",
              "<p>15001 rows × 8 columns</p>\n",
              "</div>"
            ],
            "text/plain": [
              "     Product  Value  ...     Cell_ID     Site_ID\n",
              "0      Voice      0  ...  /TJNe+Mmtu  /TJNe+Mmtu\n",
              "1        sms      0  ...  /+cKZKIp41  /+cKZKIp41\n",
              "2        sms     25  ...  /u0FSD+ahi  /u0FSD+ahi\n",
              "3      Voice     56  ...  +cNeJzsTp3  +cNeJzsTp3\n",
              "4      Voice     14  ...  051KhYDCpv  051KhYDCpv\n",
              "...      ...    ...  ...         ...         ...\n",
              "4995   Voice      0  ...  2aa04dcab7  f7d63a29e5\n",
              "4996   Voice     62  ...  7f1f2f889f  b4ddb9e93c\n",
              "4997   Voice     32  ...  a4731e780e  d68260ef50\n",
              "4998   Voice     30  ...  98ed726da2  b4130b54ab\n",
              "4999   Voice     60  ...  1c11a2fcbb  6d70dae094\n",
              "\n",
              "[15001 rows x 8 columns]"
            ]
          },
          "metadata": {
            "tags": []
          },
          "execution_count": 35
        }
      ]
    },
    {
      "cell_type": "code",
      "metadata": {
        "id": "g8_Qg2RtfZaP",
        "colab_type": "code",
        "colab": {}
      },
      "source": [
        "#Drop duplicates\n",
        "df_cdr = df_cdr.drop_duplicates()"
      ],
      "execution_count": 0,
      "outputs": []
    },
    {
      "cell_type": "code",
      "metadata": {
        "id": "x8syKFpQmwJw",
        "colab_type": "code",
        "outputId": "6d73e0f0-c45c-4458-e872-04dcf4da1439",
        "colab": {
          "base_uri": "https://localhost:8080/",
          "height": 252
        }
      },
      "source": [
        "#Review after dropping of duplicates\n",
        "df_cdr.info\n",
        "#253 rows dropped i.e 15001 - 14748"
      ],
      "execution_count": 0,
      "outputs": [
        {
          "output_type": "execute_result",
          "data": {
            "text/plain": [
              "<bound method DataFrame.info of      Product  Value           Date_Time  ... Country_B     Cell_ID     Site_ID\n",
              "0      Voice      0 2012-05-06 23:04:37  ...     19e2e  /TJNe+Mmtu  /TJNe+Mmtu\n",
              "1        sms      0 2012-05-06 23:05:25  ...     19e2e  /+cKZKIp41  /+cKZKIp41\n",
              "2        sms     25 2012-05-06 23:05:41  ...     19e2e  /u0FSD+ahi  /u0FSD+ahi\n",
              "3      Voice     56 2012-05-06 23:05:42  ...     19e2e  +cNeJzsTp3  +cNeJzsTp3\n",
              "4      Voice     14 2012-05-06 23:06:29  ...     19e2e  051KhYDCpv  051KhYDCpv\n",
              "...      ...    ...                 ...  ...       ...         ...         ...\n",
              "4994   Voice     10 2012-05-09 00:01:43  ...     OTHER  6467daa1db  8a96bae9c1\n",
              "4995   Voice      0 2012-05-09 00:01:43  ...     19e2e  2aa04dcab7  f7d63a29e5\n",
              "4996   Voice     62 2012-05-09 00:01:43  ...     19e2e  7f1f2f889f  b4ddb9e93c\n",
              "4998   Voice     30 2012-05-09 00:01:43  ...     19e2e  98ed726da2  b4130b54ab\n",
              "4999   Voice     60 2012-05-09 00:01:43  ...     19e2e  1c11a2fcbb  6d70dae094\n",
              "\n",
              "[14748 rows x 10 columns]>"
            ]
          },
          "metadata": {
            "tags": []
          },
          "execution_count": 37
        }
      ]
    },
    {
      "cell_type": "code",
      "metadata": {
        "id": "CUPSPF5ddyQu",
        "colab_type": "code",
        "colab": {}
      },
      "source": [
        "#Merge CDR and Cell Data\n",
        "df_cdr_cells = pd.merge(df_cdr,df_cells, how='inner', on=['Cell_ID'])"
      ],
      "execution_count": 0,
      "outputs": []
    },
    {
      "cell_type": "code",
      "metadata": {
        "id": "scWAxqXsmrUL",
        "colab_type": "code",
        "outputId": "5b966050-0d79-4e92-a817-f1829b77f890",
        "colab": {
          "base_uri": "https://localhost:8080/",
          "height": 437
        }
      },
      "source": [
        "# df_cells.loc[df_cells['Cell_ID'] ==\"/TJNe+Mmtu\"]\n",
        "df_cdr_cells.info()"
      ],
      "execution_count": 0,
      "outputs": [
        {
          "output_type": "stream",
          "text": [
            "<class 'pandas.core.frame.DataFrame'>\n",
            "Index: 0 entries\n",
            "Data columns (total 20 columns):\n",
            "Product              0 non-null object\n",
            "Value                0 non-null int64\n",
            "Date_Time            0 non-null datetime64[ns]\n",
            "Cell_On_Site         0 non-null object\n",
            "Party_A_Number       0 non-null object\n",
            "Party_B_Number       0 non-null object\n",
            "Country_A            0 non-null object\n",
            "Country_B            0 non-null object\n",
            "Cell_ID              0 non-null object\n",
            "Site_ID_x            0 non-null object\n",
            "City                 0 non-null object\n",
            "Status               0 non-null object\n",
            "Locality             0 non-null object\n",
            "Geographical_Zone    0 non-null object\n",
            "Zone_Name            0 non-null object\n",
            "Longitude            0 non-null float64\n",
            "Latitude             0 non-null float64\n",
            "Region               0 non-null object\n",
            "Area                 0 non-null object\n",
            "Site_ID_y            0 non-null object\n",
            "dtypes: datetime64[ns](1), float64(2), int64(1), object(16)\n",
            "memory usage: 0.0+ bytes\n"
          ],
          "name": "stdout"
        }
      ]
    },
    {
      "cell_type": "markdown",
      "metadata": {
        "id": "gPJMVhc3PTTa",
        "colab_type": "text"
      },
      "source": [
        "###Data Exploration"
      ]
    },
    {
      "cell_type": "markdown",
      "metadata": {
        "id": "mv7Ih9nsY2yc",
        "colab_type": "text"
      },
      "source": [
        "Which ones were the most used city for the three days?"
      ]
    },
    {
      "cell_type": "code",
      "metadata": {
        "id": "bmBoNna8ciNa",
        "colab_type": "code",
        "outputId": "e3f27310-caf1-4f6e-ead0-e278fc2a5308",
        "colab": {
          "base_uri": "https://localhost:8080/",
          "height": 225
        }
      },
      "source": [
        "#Inference: infers City with most calls over the last 3 days\n",
        "#Action : Will count the number of calls per city. The one with maximum number of calls is the most used city\n",
        "df_cdr.groupby('Cell_ID').count().nlargest(5,'Product')"
      ],
      "execution_count": 0,
      "outputs": [
        {
          "output_type": "execute_result",
          "data": {
            "text/html": [
              "<div>\n",
              "<style scoped>\n",
              "    .dataframe tbody tr th:only-of-type {\n",
              "        vertical-align: middle;\n",
              "    }\n",
              "\n",
              "    .dataframe tbody tr th {\n",
              "        vertical-align: top;\n",
              "    }\n",
              "\n",
              "    .dataframe thead th {\n",
              "        text-align: right;\n",
              "    }\n",
              "</style>\n",
              "<table border=\"1\" class=\"dataframe\">\n",
              "  <thead>\n",
              "    <tr style=\"text-align: right;\">\n",
              "      <th></th>\n",
              "      <th>Product</th>\n",
              "      <th>Value</th>\n",
              "      <th>Date_Time</th>\n",
              "      <th>Cell_On_Site</th>\n",
              "      <th>Party_A_Number</th>\n",
              "      <th>Party_B_Number</th>\n",
              "      <th>Country_A</th>\n",
              "      <th>Country_B</th>\n",
              "      <th>Site_ID</th>\n",
              "    </tr>\n",
              "    <tr>\n",
              "      <th>Cell_ID</th>\n",
              "      <th></th>\n",
              "      <th></th>\n",
              "      <th></th>\n",
              "      <th></th>\n",
              "      <th></th>\n",
              "      <th></th>\n",
              "      <th></th>\n",
              "      <th></th>\n",
              "      <th></th>\n",
              "    </tr>\n",
              "  </thead>\n",
              "  <tbody>\n",
              "    <tr>\n",
              "      <th>ffa6759bb2</th>\n",
              "      <td>1960</td>\n",
              "      <td>1960</td>\n",
              "      <td>1960</td>\n",
              "      <td>1960</td>\n",
              "      <td>1960</td>\n",
              "      <td>1960</td>\n",
              "      <td>1960</td>\n",
              "      <td>1960</td>\n",
              "      <td>0</td>\n",
              "    </tr>\n",
              "    <tr>\n",
              "      <th>03ee801971</th>\n",
              "      <td>73</td>\n",
              "      <td>73</td>\n",
              "      <td>73</td>\n",
              "      <td>73</td>\n",
              "      <td>73</td>\n",
              "      <td>73</td>\n",
              "      <td>73</td>\n",
              "      <td>73</td>\n",
              "      <td>73</td>\n",
              "    </tr>\n",
              "    <tr>\n",
              "      <th>cc7ce19d6b</th>\n",
              "      <td>65</td>\n",
              "      <td>65</td>\n",
              "      <td>65</td>\n",
              "      <td>65</td>\n",
              "      <td>65</td>\n",
              "      <td>65</td>\n",
              "      <td>65</td>\n",
              "      <td>65</td>\n",
              "      <td>65</td>\n",
              "    </tr>\n",
              "    <tr>\n",
              "      <th>b78724d6fc</th>\n",
              "      <td>42</td>\n",
              "      <td>42</td>\n",
              "      <td>42</td>\n",
              "      <td>42</td>\n",
              "      <td>42</td>\n",
              "      <td>42</td>\n",
              "      <td>42</td>\n",
              "      <td>42</td>\n",
              "      <td>42</td>\n",
              "    </tr>\n",
              "    <tr>\n",
              "      <th>d22224b2fa</th>\n",
              "      <td>40</td>\n",
              "      <td>40</td>\n",
              "      <td>40</td>\n",
              "      <td>40</td>\n",
              "      <td>40</td>\n",
              "      <td>40</td>\n",
              "      <td>40</td>\n",
              "      <td>40</td>\n",
              "      <td>40</td>\n",
              "    </tr>\n",
              "  </tbody>\n",
              "</table>\n",
              "</div>"
            ],
            "text/plain": [
              "            Product  Value  Date_Time  ...  Country_A  Country_B  Site_ID\n",
              "Cell_ID                                ...                               \n",
              "ffa6759bb2     1960   1960       1960  ...       1960       1960        0\n",
              "03ee801971       73     73         73  ...         73         73       73\n",
              "cc7ce19d6b       65     65         65  ...         65         65       65\n",
              "b78724d6fc       42     42         42  ...         42         42       42\n",
              "d22224b2fa       40     40         40  ...         40         40       40\n",
              "\n",
              "[5 rows x 9 columns]"
            ]
          },
          "metadata": {
            "tags": []
          },
          "execution_count": 40
        }
      ]
    },
    {
      "cell_type": "markdown",
      "metadata": {
        "id": "q7L1UKBzZMnS",
        "colab_type": "text"
      },
      "source": [
        "Which cities were the most used during business and home hours?"
      ]
    },
    {
      "cell_type": "code",
      "metadata": {
        "id": "far5LqNFE57m",
        "colab_type": "code",
        "colab": {}
      },
      "source": [
        "#Inference: Business hours in Cote d'Ivoire are 07:30 - 1800 on weekday and 08:00 to 12:00 on weekend\n",
        "#Source: https://www.worldtravelguide.net/guides/africa/ivory-coast/business-communications/\n",
        "#Approach "
      ],
      "execution_count": 0,
      "outputs": []
    },
    {
      "cell_type": "markdown",
      "metadata": {
        "id": "k1IRlhlhZTej",
        "colab_type": "text"
      },
      "source": [
        "Most used city for the three days"
      ]
    },
    {
      "cell_type": "markdown",
      "metadata": {
        "id": "1ATuiARiZiCT",
        "colab_type": "text"
      },
      "source": [
        "Most used product for the 3 Days\n"
      ]
    },
    {
      "cell_type": "code",
      "metadata": {
        "id": "IcmOWnV_Bjrv",
        "colab_type": "code",
        "outputId": "008e1f28-04a7-413d-e093-c939a9b39023",
        "colab": {
          "base_uri": "https://localhost:8080/",
          "height": 101
        }
      },
      "source": [
        "df_cdr.groupby('Product')['Value'].sum()\n"
      ],
      "execution_count": 0,
      "outputs": [
        {
          "output_type": "execute_result",
          "data": {
            "text/plain": [
              "Product\n",
              "Voice    306655\n",
              "data      17285\n",
              "sms       52377\n",
              "Name: Value, dtype: int64"
            ]
          },
          "metadata": {
            "tags": []
          },
          "execution_count": 48
        }
      ]
    },
    {
      "cell_type": "markdown",
      "metadata": {
        "id": "TWqPz1opZkZI",
        "colab_type": "text"
      },
      "source": [
        "Busiest time of the day"
      ]
    },
    {
      "cell_type": "markdown",
      "metadata": {
        "id": "F4zcf8gEF780",
        "colab_type": "text"
      },
      "source": [
        "Cell with highest income"
      ]
    },
    {
      "cell_type": "code",
      "metadata": {
        "id": "hzUamZDvGNkg",
        "colab_type": "code",
        "outputId": "a5052cbb-f132-4047-ca6c-e54ce8386ac7",
        "colab": {
          "base_uri": "https://localhost:8080/",
          "height": 235
        }
      },
      "source": [
        "df_cdr.groupby('Site_ID')['Value'].sum()"
      ],
      "execution_count": 0,
      "outputs": [
        {
          "output_type": "execute_result",
          "data": {
            "text/plain": [
              "Site_ID\n",
              "++ctND+jGD    134\n",
              "+38u2u/rfx    186\n",
              "+854AcBQT2    154\n",
              "+Fs4mTvdKx     31\n",
              "+QZ9qRtNxA     55\n",
              "             ... \n",
              "feffc8c92b    297\n",
              "ff1b78ec81    322\n",
              "ffa6bdc032    499\n",
              "ffc9f56819    177\n",
              "fff5ac6e3f     28\n",
              "Name: Value, Length: 1357, dtype: int64"
            ]
          },
          "metadata": {
            "tags": []
          },
          "execution_count": 52
        }
      ]
    },
    {
      "cell_type": "markdown",
      "metadata": {
        "id": "dt1P_iGVQFor",
        "colab_type": "text"
      },
      "source": [
        "###Recommendation"
      ]
    },
    {
      "cell_type": "markdown",
      "metadata": {
        "id": "Lb_Mm7bRExO7",
        "colab_type": "text"
      },
      "source": [
        "Results\n",
        "\n",
        "1. Voice is the most popular product\n",
        "2. 'ffa6759bb2' is the busiest cell. Expansion on this cell needed\n",
        "\n"
      ]
    },
    {
      "cell_type": "markdown",
      "metadata": {
        "id": "dnOY3p_Aaq_5",
        "colab_type": "text"
      },
      "source": [
        "Region to Expand"
      ]
    }
  ]
}